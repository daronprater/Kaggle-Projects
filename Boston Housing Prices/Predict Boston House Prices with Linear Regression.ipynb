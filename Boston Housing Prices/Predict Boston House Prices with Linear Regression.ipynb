{
 "cells": [
  {
   "cell_type": "markdown",
   "metadata": {
    "_uuid": "951d074b778a5f445ccd97976caea7981462f022"
   },
   "source": [
    "# Predicting Boston Housing Prices"
   ]
  },
  {
   "cell_type": "markdown",
   "metadata": {
    "_uuid": "15ee223c062214626e93d3bc3a1aca920ff1cb1f"
   },
   "source": [
    "In this notebook we will take a look at Boston Housing Prices dataset on Kaggle. This dataset comes from the UCI Machine Learning Repository and contains 506 rows and 14 columns. Each row represents a home located in Boston, Massachusetts in 1978 and the 14 columns represent datapoints collected on each home. The purpose of this notebook is to use the data collected about each home to predict it's median home value. This is a supervised regression task meaning:\n",
    "\n",
    "* **Supervised** - Target variable are included in the dataset.\n",
    "*  **Regression** - The target variable is continuous."
   ]
  },
  {
   "cell_type": "markdown",
   "metadata": {
    "_uuid": "f8ebfbc7ae54c9b5f35479763e8c81f6aedab2d2"
   },
   "source": [
    "# Dataset Feature Overview\n",
    "This list includes a description of all columns in the dataset.\n",
    "* CRIM   -   per capita crime rate by town\n",
    "* ZN   -   proportion of residential land zoned for lots over 25,000 sq.ft.\n",
    "* INDUS   -   proportion of non-retail business acres per town\n",
    "* CHAS   -   Charles River dummy variable (= 1 if tract bounds river; 0 otherwise)\n",
    "* NOX   -   nitric oxides concentration (parts per 10 million)\n",
    "* RM   -   average number of rooms per dwelling\n",
    "* AGE   -   proportion of owner-occupied units built prior to 1940\n",
    "* DIS   -   weighted distances to five Boston employment centres\n",
    "* RAD   -   index of accessibility to radial highways\n",
    "* TAX   -   full-value property-tax rate per $10,000\n",
    "* PTRATIO - Pupil-techer ratio by town\n",
    "* B -  1000(Bk - 0.63)^2 where Bk is the proportion of blacks by town\n",
    "* LSTAT - % lower status of the population\n",
    "* MEDV (TARGET) - Median value of owner-occupied homes in 1000's"
   ]
  },
  {
   "cell_type": "markdown",
   "metadata": {
    "_uuid": "44f23c172783f57f5a248c5323c747e2336cd9b9"
   },
   "source": [
    "## Imports"
   ]
  },
  {
   "cell_type": "code",
   "execution_count": 1,
   "metadata": {
    "_cell_guid": "b1076dfc-b9ad-4769-8c92-a6c4dae69d19",
    "_uuid": "8f2839f25d086af736a60e9eeb907d3b93b6e0e5"
   },
   "outputs": [
    {
     "ename": "FileNotFoundError",
     "evalue": "[WinError 3] The system cannot find the path specified: '../input'",
     "output_type": "error",
     "traceback": [
      "\u001b[1;31m---------------------------------------------------------------------------\u001b[0m",
      "\u001b[1;31mFileNotFoundError\u001b[0m                         Traceback (most recent call last)",
      "\u001b[1;32m<ipython-input-1-a1b672671619>\u001b[0m in \u001b[0;36m<module>\u001b[1;34m()\u001b[0m\n\u001b[0;32m      2\u001b[0m \u001b[1;32mimport\u001b[0m \u001b[0mpandas\u001b[0m \u001b[1;32mas\u001b[0m \u001b[0mpd\u001b[0m \u001b[1;31m# data processing, CSV file I/O (e.g. pd.read_csv)\u001b[0m\u001b[1;33m\u001b[0m\u001b[0m\n\u001b[0;32m      3\u001b[0m \u001b[1;32mimport\u001b[0m \u001b[0mos\u001b[0m\u001b[1;33m\u001b[0m\u001b[0m\n\u001b[1;32m----> 4\u001b[1;33m \u001b[0mprint\u001b[0m\u001b[1;33m(\u001b[0m\u001b[0mos\u001b[0m\u001b[1;33m.\u001b[0m\u001b[0mlistdir\u001b[0m\u001b[1;33m(\u001b[0m\u001b[1;34m\"../input\"\u001b[0m\u001b[1;33m)\u001b[0m\u001b[1;33m)\u001b[0m\u001b[1;33m\u001b[0m\u001b[0m\n\u001b[0m\u001b[0;32m      5\u001b[0m \u001b[1;32mimport\u001b[0m \u001b[0mmatplotlib\u001b[0m\u001b[1;33m.\u001b[0m\u001b[0mpyplot\u001b[0m \u001b[1;32mas\u001b[0m \u001b[0mplt\u001b[0m\u001b[1;33m\u001b[0m\u001b[0m\n\u001b[0;32m      6\u001b[0m \u001b[1;32mimport\u001b[0m \u001b[0mseaborn\u001b[0m \u001b[1;32mas\u001b[0m \u001b[0msns\u001b[0m\u001b[1;33m\u001b[0m\u001b[0m\n",
      "\u001b[1;31mFileNotFoundError\u001b[0m: [WinError 3] The system cannot find the path specified: '../input'"
     ]
    }
   ],
   "source": [
    "import numpy as np # linear algebra\n",
    "import pandas as pd # data processing, CSV file I/O (e.g. pd.read_csv)\n",
    "import matplotlib.pyplot as plt\n",
    "import seaborn as sns\n",
    "\n",
    "# Any results you write to the current directory are saved as output."
   ]
  },
  {
   "cell_type": "markdown",
   "metadata": {
    "_cell_guid": "79c7e3d0-c299-4dcb-8224-4455121ee9b0",
    "_uuid": "d629ff2d2480ee46fbb7e2d37f6b5fab8052498a",
    "collapsed": true
   },
   "source": [
    "## Reading in the data\n",
    "Per the data and overview pages for this dataset and by the directory listing there is one file in the directory. One thing I noted when looking at this data in the data overview section was it does not include headers, so we will have to add headers to this file ourselves using pandas."
   ]
  },
  {
   "cell_type": "code",
   "execution_count": null,
   "metadata": {
    "_uuid": "065d53d287819747ed51eb1fed03eb5098c4ec51",
    "collapsed": true
   },
   "outputs": [],
   "source": [
    "column_headers = ['CRIM', 'ZN', 'INDUS', 'CHAS', 'NOX', 'RM', 'AGE', 'DIS', 'RAD', 'TAX', 'PTRATIO', 'B', 'LSTAT', 'MEDV']\n",
    "boston = pd.read_csv('../input/housingdata.csv', names = column_headers)\n",
    "print('Dataset Shape', boston.shape)\n",
    "boston.head()"
   ]
  },
  {
   "cell_type": "markdown",
   "metadata": {
    "_uuid": "8ef240981258f46622841cc6e495a59f85b90e21"
   },
   "source": [
    "This dataset has 506 rows (observations) and 14 columns (features) including our target variable MEDV. One thing to note right off the bat is the CHAS column is a binary variable and the RAD variable appears to be a categorical variable as well. "
   ]
  },
  {
   "cell_type": "markdown",
   "metadata": {
    "_uuid": "54845699f37249c257a2ed1c0ee37738f6a1dcc3"
   },
   "source": [
    "# Exploratory Data Analysis (EDA)\n",
    "EDA is the process of understanding what the data is telling us by calculating statistics and creating charts and figures. These statistics and charts can help find anomalies which could impact our analysis or find relationships and trends between the various features in our data. EDA starts off at a high level but narrows in scope as we find interesting patterns and relationships in our data."
   ]
  },
  {
   "cell_type": "markdown",
   "metadata": {
    "_uuid": "df2221eda6f7c2ea89999b4727ca3f4312d6ae9b"
   },
   "source": [
    "### Examine the distribution and summary statistics of the MEDV (Target) column\n",
    "This notebook is focused on creating a model that uses the 13 features in our dataset to predict the MEDV column, which is the median home value of each home in the dataset (in thousands)."
   ]
  },
  {
   "cell_type": "code",
   "execution_count": null,
   "metadata": {
    "_uuid": "dcbb6ef8247ecedc96a5194c9f4c2051d83e0ad1",
    "collapsed": true
   },
   "outputs": [],
   "source": [
    "sns.set_style('whitegrid')\n",
    "MEDV = sns.distplot(boston['MEDV'])\n",
    "MEDV.set(title = \"Distribution of MEDV column\")\n",
    "boston['MEDV'].describe()"
   ]
  },
  {
   "cell_type": "markdown",
   "metadata": {
    "_uuid": "979fb23265d7f88891490f842de9d325ddd6f091"
   },
   "source": [
    "We can see the distribution of the target column is slightly right-skewed with mean of 22.53 and a standard deviation of 9.20. There do appear to be a few outliers on the higher end of the MEDV price distribution"
   ]
  },
  {
   "cell_type": "markdown",
   "metadata": {
    "_uuid": "772e69407bf4f97694db2e091f5a227608f62494"
   },
   "source": [
    "### Check for missing values\n",
    "Next we need to check if the dataset has any missing values."
   ]
  },
  {
   "cell_type": "code",
   "execution_count": null,
   "metadata": {
    "_uuid": "ec18bd956b2a16509d2f66e4a96abc018d11663e",
    "collapsed": true
   },
   "outputs": [],
   "source": [
    "#Calculate all missing values in the dataset.\n",
    "missing_values = boston.isnull().sum().sum()\n",
    "print(\"Missing values in dataset: \", missing_values)"
   ]
  },
  {
   "cell_type": "markdown",
   "metadata": {
    "_uuid": "ffeafb790a616206a349304448332490a710f2ce"
   },
   "source": [
    "This is a very nice and clean dataset with no missing values. In most datasets this is not the case and it's very important to check for missing values because those will need to be delt with through dropping columns or imputing values."
   ]
  },
  {
   "cell_type": "markdown",
   "metadata": {
    "_uuid": "6ec80578464aa6be84898f6f7f98f73fc77ec949"
   },
   "source": [
    "### Column Types\n",
    "It's important to understand the column types because a machine learning model can not use categorical variables. Categorical variables need to be encoded as numbers before being used by the model."
   ]
  },
  {
   "cell_type": "code",
   "execution_count": null,
   "metadata": {
    "_uuid": "4bc419c0d0ceb773b7b47f301f4f1cc639dc44ca",
    "collapsed": true
   },
   "outputs": [],
   "source": [
    "boston.info()"
   ]
  },
  {
   "cell_type": "markdown",
   "metadata": {
    "_uuid": "facf019a8e3dab7bd6dac2dfa391033ec1ab66c4"
   },
   "source": [
    "All of the column types are either int64 or float64 which indicates they are all numeric columns. We know the CHAS feature is binary so it can only take values of 0 and 1. "
   ]
  },
  {
   "cell_type": "markdown",
   "metadata": {
    "_uuid": "7ba3035b3b17aee8211bab9ee840d705c0acc2f8"
   },
   "source": [
    "### Anomalies and Outliers\n",
    "One way we can check for anomalies and outliers in the data is to look at the distributions of the features in our dataset as well as summary statistics for each column. To do this I'll plot some histograms and use the .describe() method."
   ]
  },
  {
   "cell_type": "code",
   "execution_count": null,
   "metadata": {
    "_uuid": "ed12cb6403a6d210842c0e451124d1ea1527da53",
    "collapsed": true
   },
   "outputs": [],
   "source": [
    "f, ax = plt.subplots(nrows = 7, ncols = 2, figsize=(16,16))\n",
    "columns = ['CRIM', 'ZN', 'INDUS', 'CHAS', 'NOX', 'RM', 'AGE', 'DIS', 'RAD', 'TAX',\n",
    "       'PTRATIO', 'B', 'LSTAT']\n",
    "row = 0\n",
    "col = 0\n",
    "for i, column in enumerate(columns):\n",
    "    g = sns.distplot(boston[column], ax=ax[row][col])\n",
    "    col += 1\n",
    "    if col == 2:\n",
    "        col = 0\n",
    "        row += 1\n",
    "\n",
    "plt.subplots_adjust(left=None, bottom=None, right=None, top=None, wspace=None, hspace=.5)\n"
   ]
  },
  {
   "cell_type": "code",
   "execution_count": null,
   "metadata": {
    "_uuid": "b82125fdb416ffe80ac0a4e08b86715a910e8c8a",
    "collapsed": true
   },
   "outputs": [],
   "source": [
    "boston.iloc[:,:-1].describe()"
   ]
  },
  {
   "cell_type": "markdown",
   "metadata": {
    "_uuid": "b07f152723a213317e04d3c3649b7afb9a5c2b1a"
   },
   "source": [
    "Looking at these histograms and summary statistics, I noticed a couple interesting things:\n",
    "* TAX column has a majority of its values in the 200-400 range but there are a collection of homes that have a TAX value of above 600\n",
    "* RAD column has most of its values between 0-10 but there is a collection of values over 20.\n",
    "* Many of the columns are heavily skewed left or right. For example, the ZN column is heavily skewed right. I would like to understand that column in more detail and it's effect on the MEDV column.\n",
    "The code below will explore each observation.\n"
   ]
  },
  {
   "cell_type": "code",
   "execution_count": null,
   "metadata": {
    "_uuid": "eb7f28b065abad5b021d5e429b8aca015bb3bad1",
    "collapsed": true
   },
   "outputs": [],
   "source": [
    "rad_out = boston.copy()\n",
    "rad_out['OUTLIER'] = rad_out['RAD'].apply(lambda x: 1 if x > 15 else 0)\n"
   ]
  },
  {
   "cell_type": "code",
   "execution_count": null,
   "metadata": {
    "_uuid": "be2818aa27a413fcf49fd1cd674d293bae172518",
    "collapsed": true
   },
   "outputs": [],
   "source": [
    "sns.boxplot(x='OUTLIER', y='MEDV', data=rad_out)"
   ]
  },
  {
   "cell_type": "code",
   "execution_count": null,
   "metadata": {
    "_uuid": "c57eacc5ef4c8fe27ae96c20d804875b8dd2cdf1",
    "collapsed": true
   },
   "outputs": [],
   "source": [
    "rad_out.groupby('OUTLIER').mean()['MEDV']"
   ]
  },
  {
   "cell_type": "markdown",
   "metadata": {
    "_uuid": "0c8cbbe23d3ed6b44f16cc17c2af06436a927f20"
   },
   "source": [
    "This is interesting! We see that mean MEDV value for houses that have a RAD value > 15 is 16 where as the mean MEDV value for houses that have a RAD value of < 15 is roughly 24. This is pictorally depicted by the boxplot above as well. We will keep this in mind when we engineer features later in the notebook."
   ]
  },
  {
   "cell_type": "markdown",
   "metadata": {
    "_uuid": "7d1acd085fd9586568fcdeb97bf139756887a530"
   },
   "source": [
    "Now we'll look at the TAX values"
   ]
  },
  {
   "cell_type": "code",
   "execution_count": null,
   "metadata": {
    "_uuid": "21bc4fbc757914c1ad9c8280ea754e1491b017c4",
    "collapsed": true
   },
   "outputs": [],
   "source": [
    "tax_out = boston.copy()\n",
    "tax_out['OUTLIER'] = boston['TAX'].apply(lambda x: 1 if x > 600 else 0)\n",
    "sns.boxplot(x='OUTLIER', y='MEDV', data=tax_out)\n",
    "tax_out.groupby('OUTLIER').mean()['MEDV']\n",
    "\n"
   ]
  },
  {
   "cell_type": "markdown",
   "metadata": {
    "_uuid": "a3696e28e64bb262dcd2dc2cfcd0d89aa110615e"
   },
   "source": [
    "Somewhat similar to the RAD situation, the TAX column also seems to have an impact on the MEDV column. We will also keep this in mind down the road."
   ]
  },
  {
   "cell_type": "markdown",
   "metadata": {
    "_uuid": "a6c197167ea6c3523896ae22b72a327641a90d45"
   },
   "source": [
    "**ZN Column**\n",
    " The ZN column represents the proportion of residential land zoned for lots over 25,000 sq.ft."
   ]
  },
  {
   "cell_type": "code",
   "execution_count": null,
   "metadata": {
    "_uuid": "090492f4389bd46d741de3353ba750ea3fde211e",
    "collapsed": true
   },
   "outputs": [],
   "source": [
    "boston.groupby('ZN').count()"
   ]
  },
  {
   "cell_type": "markdown",
   "metadata": {
    "_uuid": "49e9adfd28ce9ea7e24a3d7b1bc28a4162ff4688"
   },
   "source": [
    "372 observations are 0 for the ZN column meaning that those lots are not in excess of 25000 square feet. The remaining observations are spread from numbers 12.5-100, indicating the percentage of land zoned for that lot. Let's try to vizualize the effect of these numebrs on the MEDV statistic.\n",
    "\n",
    "* In order to vizualize this, I'm going to cut the ZN category into 4 bins (0-24, 25-50, 51-75, 76,-100) and chart the average MEDV value for each grouping. "
   ]
  },
  {
   "cell_type": "code",
   "execution_count": null,
   "metadata": {
    "_uuid": "4b1d9d49ac4ec3b4009b5bc6aafa7893d05a34ae",
    "collapsed": true
   },
   "outputs": [],
   "source": [
    "zn = boston.copy()\n",
    "zn['BINNED'] = pd.cut(zn['ZN'], bins = 4)\n",
    "zn.head()"
   ]
  },
  {
   "cell_type": "code",
   "execution_count": null,
   "metadata": {
    "_uuid": "48efc0aa8f498ceada692027d6ef46bb4e1f62d5",
    "collapsed": true
   },
   "outputs": [],
   "source": [
    "zn_grouped = zn.groupby('BINNED').mean()['MEDV']\n",
    "zn_grouped"
   ]
  },
  {
   "cell_type": "code",
   "execution_count": null,
   "metadata": {
    "_uuid": "9a5e8fec52eb688e5b08663ea99c533f77967b63",
    "collapsed": true
   },
   "outputs": [],
   "source": [
    "plt.figure(figsize=(8,8))\n",
    "plt.bar(zn_grouped.index.astype(str), zn_grouped)"
   ]
  },
  {
   "cell_type": "markdown",
   "metadata": {
    "_uuid": "7f5745d71cf1995e44ecadd72e9068596488907c"
   },
   "source": [
    "There is a clear positive trend between land zoned and MEDV home value. Intuitively this chart makes sense because the smaller the land size, the less value the home should be. I.E. homes with more land tend to be worth more. "
   ]
  },
  {
   "cell_type": "markdown",
   "metadata": {
    "_uuid": "8e72a9bea9c1df1e1cdea4e00113ca474a37ecd2"
   },
   "source": [
    "### Correlations"
   ]
  },
  {
   "cell_type": "markdown",
   "metadata": {
    "_uuid": "8cbe8a7018cb734aed3ff34b0f0622bced5af1fa"
   },
   "source": [
    "One way to try and understand the data is by looking for correlations between the features and the target. We can calculate the Pearson correlation coefficient between every variable and the target using the .corr method."
   ]
  },
  {
   "cell_type": "code",
   "execution_count": null,
   "metadata": {
    "_uuid": "e039aa2a1d017018c2f34841746f7b3d00f945f9",
    "collapsed": true
   },
   "outputs": [],
   "source": [
    "#Sort correlations\n",
    "correlations = boston.corr()['MEDV'].sort_values()\n",
    "correlations"
   ]
  },
  {
   "cell_type": "markdown",
   "metadata": {
    "_uuid": "b96bf48a80fee0216b028385e371285bcd7bb59b"
   },
   "source": [
    "Let's take a look at some of the more significant correlations. \n",
    "* The most negative correlation is LSTAT which is % lower status of the population, so what this is saying is as the % of lower status of the population increases for a home, the MEDV value of the home tends to decrease.\n",
    "* The most positive correlation (Except for MEDV) is RM which is average number of rooms per home. This is saying that as the average number of rooms increase, the MEDV value of the home tends to increase."
   ]
  },
  {
   "cell_type": "markdown",
   "metadata": {
    "_uuid": "227544dfa48a9fb7a4b91a77b463875dd0fb729f"
   },
   "source": [
    "### Effect of RM on MEDV"
   ]
  },
  {
   "cell_type": "code",
   "execution_count": null,
   "metadata": {
    "_uuid": "733026f875b9ad5495d76e4f9cbc849a3f47bd04",
    "collapsed": true
   },
   "outputs": [],
   "source": [
    "sns.lmplot(x='RM', y='MEDV', data=boston)"
   ]
  },
  {
   "cell_type": "markdown",
   "metadata": {
    "_uuid": "041945729f1417f8649a4a122233824b187fdb67"
   },
   "source": [
    "The chart above helps confirm what was displayed by the correlation matrix. As the RM variable increases, the MEDV value also tends to increase."
   ]
  },
  {
   "cell_type": "markdown",
   "metadata": {
    "_uuid": "f11acfb725df2dcb3f094e28456130a30b163127"
   },
   "source": [
    "### Effect of LSTAT on MEDV"
   ]
  },
  {
   "cell_type": "code",
   "execution_count": null,
   "metadata": {
    "_uuid": "928a412cd4feaff1c973b3cd1050dc177a9e1d12",
    "collapsed": true
   },
   "outputs": [],
   "source": [
    "sns.lmplot(x='LSTAT', y='MEDV', data=boston)"
   ]
  },
  {
   "cell_type": "markdown",
   "metadata": {
    "_uuid": "39e4a7c7c77cf1f9403e3fada2befa9fdf8b266c"
   },
   "source": [
    "The chart above helps confirm what was displayed by the correlation matrix. As the RM variable increases, the MEDV value also tends to increase."
   ]
  },
  {
   "cell_type": "markdown",
   "metadata": {
    "_uuid": "f0bd55e62f72f5f7f997e1ab2de6aa0c517bd54d"
   },
   "source": [
    "# Collinearity\n",
    "Collinearity is the term used to describe the event when features are highly correlated with each other. Correlated features can pose problems in a regression model by masing the true effect of significant features. This can impact the quality of fit of a regression model and should be taken into account when creating one.\n",
    "\n",
    "### Pairplot\n",
    "The pairplot is a great way to see relationships between pairs of variables. We can identify collinear variables as well as other interesting relationships between the predictors and the response."
   ]
  },
  {
   "cell_type": "code",
   "execution_count": null,
   "metadata": {
    "_uuid": "1665d630e385dce2416ddd2f7bfeb7a3dde26bb8",
    "collapsed": true
   },
   "outputs": [],
   "source": [
    "sns.pairplot(data=boston)"
   ]
  },
  {
   "cell_type": "markdown",
   "metadata": {
    "_uuid": "4bb3c480cf65f44b80785bd2269158cf3413606a"
   },
   "source": [
    "### Correlation Matrix\n",
    "A great follow up to the pairplot is the correlation matrix. The correlation matrix displays the correlations for each pair of variables in the dataset and can make it easy to spot correlated features. "
   ]
  },
  {
   "cell_type": "code",
   "execution_count": null,
   "metadata": {
    "_uuid": "7ebbb278d154e666cc588c3d3f0ae77bb0a04426",
    "collapsed": true
   },
   "outputs": [],
   "source": [
    "plt.figure(figsize=(8,8))\n",
    "sns.heatmap(boston.corr())"
   ]
  },
  {
   "cell_type": "markdown",
   "metadata": {
    "_uuid": "9a8a70d27ed141382eb798869e0e6cb4b6fdd144"
   },
   "source": [
    "We can see that there appear to be a strong relationship between the following features:\n",
    "* TAX and RAD\n",
    "* DIS and AGE\n",
    "* DIS and NOX\n",
    "* DIS and INDUS\n",
    "* TAX and INDUS\n",
    "* NOX and INDUS\n",
    "\n"
   ]
  },
  {
   "cell_type": "markdown",
   "metadata": {
    "_uuid": "faabb1ad95526a1203fe3e0c046d6578aa15f527"
   },
   "source": [
    "### Multicollinearity\n",
    "Not all correlation problems can be detected by looking at the pairplot or correlatio matrix. It is possible for correlation to exist between 3 or more variables, which is called  multicollinearity. One way we can spot collinearity and multicollineary in the data is by calculating the [Variance Inflation Factor](https://en.wikipedia.org/wiki/Variance_inflation_factor) for each variable. a VIF 10 means that the variable could be problematic and impact the results of a regression model."
   ]
  },
  {
   "cell_type": "code",
   "execution_count": null,
   "metadata": {
    "_uuid": "310896360ddf4a5c7c450a6a3c43f4e75303cf55",
    "collapsed": true
   },
   "outputs": [],
   "source": [
    "#Imports to calculate VIF's for each predictor\n",
    "import statsmodels.api as sm\n",
    "from statsmodels.stats.outliers_influence import variance_inflation_factor \n",
    "from patsy import dmatrices"
   ]
  },
  {
   "cell_type": "code",
   "execution_count": null,
   "metadata": {
    "_uuid": "2a11ee53b9a5235e895e189343ebe3fecf8c21e6",
    "collapsed": true
   },
   "outputs": [],
   "source": [
    "#gather features\n",
    "features = \"+\".join(boston.columns[:-1])\n",
    "\n",
    "# get y and X dataframes based on this regression:\n",
    "y, X = dmatrices('MEDV ~' + features, boston, return_type='dataframe')"
   ]
  },
  {
   "cell_type": "code",
   "execution_count": null,
   "metadata": {
    "_uuid": "d106f153064ce63c7665dd2ab22680d8831598a1",
    "collapsed": true
   },
   "outputs": [],
   "source": [
    "vif = pd.DataFrame()\n",
    "vif[\"VIF Factor\"] = [variance_inflation_factor(X.values, i) for i in range(X.shape[1])]\n",
    "vif[\"features\"] = X.columns\n",
    "vif.sort_values(by='VIF Factor', ascending=False).iloc[1:,:]"
   ]
  },
  {
   "cell_type": "markdown",
   "metadata": {
    "_uuid": "1c3a631ef40e629024a39ea173b3f6b78c298a18"
   },
   "source": [
    "We can see the VIF Factors for the TAX and RAD features are the highest among the features. Additionally, those two features are highly correlated with eachother as noted above. Let's try adding these two features together and see if the VIF factor of the new feature is lower than the previous two."
   ]
  },
  {
   "cell_type": "code",
   "execution_count": null,
   "metadata": {
    "_uuid": "210e31f841941d2ae879923ae2f2ff767128bb5c",
    "collapsed": true
   },
   "outputs": [],
   "source": [
    "tax_rad = boston.copy()\n",
    "tax_rad['taxrad'] = tax_rad['TAX'] + tax_rad['RAD']\n",
    "tax_rad = tax_rad.drop(['TAX', 'RAD'], axis=1)"
   ]
  },
  {
   "cell_type": "code",
   "execution_count": null,
   "metadata": {
    "_uuid": "0e7c7d5978c01fd1bcae2f8946894742c1418499",
    "collapsed": true
   },
   "outputs": [],
   "source": [
    "#gather features\n",
    "features = \"+\".join(['CRIM', 'ZN', 'INDUS', 'CHAS', 'NOX', 'RM', 'AGE', 'DIS', 'taxrad',\n",
    "       'PTRATIO', 'B', 'LSTAT'])\n",
    "\n",
    "# get y and X dataframes based on this regression:\n",
    "y, X = dmatrices('MEDV ~' + features, tax_rad, return_type='dataframe')"
   ]
  },
  {
   "cell_type": "code",
   "execution_count": null,
   "metadata": {
    "_uuid": "928918acb3746858ee6c9a401c21556d6eae062b",
    "collapsed": true
   },
   "outputs": [],
   "source": [
    "vif = pd.DataFrame()\n",
    "vif[\"VIF Factor\"] = [variance_inflation_factor(X.values, i) for i in range(X.shape[1])]\n",
    "vif[\"features\"] = X.columns\n",
    "vif.sort_values(by='VIF Factor', ascending=False).iloc[1:,:]"
   ]
  },
  {
   "cell_type": "markdown",
   "metadata": {
    "_uuid": "4e1088d5ef17ebf0b5a7b08d917d861c8c9062ef"
   },
   "source": [
    "Here we can see the VIF factor of the new \"taxrad\" feature has a significantly lower VIF factor than both the TAX and RAD features. We will keep this in mind moving forward."
   ]
  },
  {
   "cell_type": "markdown",
   "metadata": {
    "_uuid": "0016474aa4e429d1c364242c7bc1029fde44d826"
   },
   "source": [
    "# Feature Engineering"
   ]
  },
  {
   "cell_type": "markdown",
   "metadata": {
    "_uuid": "7e7b600b935381c08e31c1babc282e2c11deeb5c"
   },
   "source": [
    "Feature engineering is the process of constructing new features from features already in the dataset. There are many ways to perform feature engineering and one way is through constructing interaction terms between the features. These include current features raised to a power, current features multiplied by each other, etc. They are called interaction terms because they capture interactions within variables."
   ]
  },
  {
   "cell_type": "code",
   "execution_count": null,
   "metadata": {
    "_uuid": "cec68e72598ce0af31c14880e13fa3c0c33a3797",
    "collapsed": true
   },
   "outputs": [],
   "source": [
    "##Dataframe to capture polynomial features\n",
    "poly_features = boston.copy()\n",
    "\n",
    "#Capture target variable\n",
    "poly_target = poly_features['MEDV']\n",
    "poly_features = poly_features.drop(columns=['MEDV'])\n",
    "\n",
    "#Import polynomial feature module\n",
    "from sklearn.preprocessing import PolynomialFeatures\n",
    "\n",
    "#Create polynomial object with degree of 2\n",
    "poly_transformer = PolynomialFeatures(degree = 2)\n",
    "\n",
    "#Train the polynomial features\n",
    "poly_transformer.fit(poly_features)\n",
    "\n",
    "#Transform the features\n",
    "poly_features = poly_transformer.transform(poly_features)\n",
    "\n",
    "print('Polynomial Features Shape: ', poly_features.shape)"
   ]
  },
  {
   "cell_type": "markdown",
   "metadata": {
    "_uuid": "64d3da64fedb53374ab5b312447c0ec16411f49f"
   },
   "source": [
    "We see that creating polynomial features has increased our total number of features from 12 to 105."
   ]
  },
  {
   "cell_type": "code",
   "execution_count": null,
   "metadata": {
    "_uuid": "4f71cbdb958df8dc97701a4d8ffc4b5cdda2a644",
    "collapsed": true
   },
   "outputs": [],
   "source": [
    "#Create dataframe of features.\n",
    "poly_features = pd.DataFrame(poly_features, columns = poly_transformer.get_feature_names(boston.columns[:-1]))\n",
    "\n",
    "#Add target back in to poly_features\n",
    "poly_features['MEDV'] = poly_target\n",
    "\n",
    "#Find correlations within target\n",
    "poly_corrs = poly_features.corr()['MEDV'].sort_values()\n",
    "\n",
    "print(poly_corrs.head(10))\n",
    "print(poly_corrs.tail(10))"
   ]
  },
  {
   "cell_type": "markdown",
   "metadata": {
    "_uuid": "29c7f4600fd85b74d0472d0a482b2fdb372f0d52"
   },
   "source": [
    "We can see that some of the highest magnitude correlated features with the target \"MEDV\" feature are ones we have created through polynomial feature engineering such as RM^2 and PRATIO * LSTAT. "
   ]
  },
  {
   "cell_type": "markdown",
   "metadata": {
    "_uuid": "4b4304f790b1a913d3eaf8388d705e43f6bab3fc"
   },
   "source": [
    "### Manual Feature Engineering\n",
    "As we saw in the EDA there were some relationships between MEDV column and the TAX and RAD columns. I'm going to add those features into a new dataframe called manual_features."
   ]
  },
  {
   "cell_type": "code",
   "execution_count": null,
   "metadata": {
    "_uuid": "6d09de6f2dcf44d9daeefae00de42f01a22c43fa",
    "collapsed": true
   },
   "outputs": [],
   "source": [
    "manual_features = boston.copy()\n",
    "manual_features['TAX_OUT'] = manual_features['TAX'].apply(lambda x: 1 if x > 600 else 0)\n",
    "manual_features['RAD_OUT'] = manual_features['RAD'].apply(lambda x: 1 if x > 15 else 0)\n",
    "manual_features.head()"
   ]
  },
  {
   "cell_type": "markdown",
   "metadata": {
    "_uuid": "14a1b6920e110d1df63386e140d3945b50d65e34"
   },
   "source": [
    "# Model Fitting"
   ]
  },
  {
   "cell_type": "markdown",
   "metadata": {
    "_uuid": "722297fef40fc45b2e8c4962340d9979cfb0376b"
   },
   "source": [
    "In machine learning we need to split our data into train dataset and a testing dataset. We fit our model on the training data to make predictions on the testing data. The function below implements this on our original boston dataset as well as the dataset incluing the polynomial features."
   ]
  },
  {
   "cell_type": "code",
   "execution_count": null,
   "metadata": {
    "_uuid": "3cb2dad0cff31edcb89e27dbf579f7fd0cb7ff86",
    "collapsed": true
   },
   "outputs": [],
   "source": [
    "from sklearn.model_selection import train_test_split\n",
    "from sklearn.linear_model import LinearRegression\n",
    "from sklearn.metrics import r2_score, mean_squared_error"
   ]
  },
  {
   "cell_type": "code",
   "execution_count": null,
   "metadata": {
    "_uuid": "2a8399f4bf888a23d3ac72e1513a9b075579a919",
    "collapsed": true
   },
   "outputs": [],
   "source": [
    "#Function to fit, train, and test linear regression model.\n",
    "def basicLR(data):\n",
    "    #X Set\n",
    "    X = data.drop(columns='MEDV')\n",
    "    \n",
    "    #Y set\n",
    "    y = data['MEDV']\n",
    "    \n",
    "    #Split data\n",
    "    X_train, X_test, y_train, y_test = train_test_split(X, y, test_size=0.3, random_state=101)\n",
    "    \n",
    "    #Create linear model object\n",
    "    lm = LinearRegression()\n",
    "    \n",
    "    #Fit linear object model to training data\n",
    "    lm.fit(X_train, y_train)\n",
    "    \n",
    "    #Make predictions using lm.predict\n",
    "    predictions = lm.predict(X_test)\n",
    "    \n",
    "    #Print model quality of fit scores.\n",
    "    print('r^2: ', r2_score(y_test, predictions))\n",
    "    print(\"MSE: \", mean_squared_error(y_test, predictions))\n",
    "    \n",
    "    return r2_score(y_test, predictions), mean_squared_error(y_test, predictions)"
   ]
  },
  {
   "cell_type": "code",
   "execution_count": null,
   "metadata": {
    "_uuid": "0e37b399971a9813a819a5bd5f9ea302139e9583",
    "collapsed": true
   },
   "outputs": [],
   "source": [
    "#original boston data results\n",
    "bostonr2, bostonMSE = basicLR(boston)"
   ]
  },
  {
   "cell_type": "code",
   "execution_count": null,
   "metadata": {
    "_uuid": "61c0677d91a7a9ca1ca3e05c6c9c58cb425b09b4",
    "collapsed": true
   },
   "outputs": [],
   "source": [
    "#Polynomial feature results\n",
    "polyr2, polyMSE = basicLR(poly_features)"
   ]
  },
  {
   "cell_type": "code",
   "execution_count": null,
   "metadata": {
    "_uuid": "70e9a1224a8529e67c74224289e422da95ce8b39",
    "collapsed": true
   },
   "outputs": [],
   "source": [
    "basicLR_frame = pd.DataFrame(data=[[bostonr2, polyr2], [bostonMSE, polyMSE]], columns=['Baseline', 'Polynomial'], index=['r^2', 'MSE'])"
   ]
  },
  {
   "cell_type": "code",
   "execution_count": null,
   "metadata": {
    "_uuid": "627b82b11136fef16073fb788e722be4a206f03c",
    "collapsed": true
   },
   "outputs": [],
   "source": [
    "basicLR_frame"
   ]
  },
  {
   "cell_type": "markdown",
   "metadata": {
    "_uuid": "91c477ea0d661276918379f1f8d70bd5a575a74e"
   },
   "source": [
    "By engineering polynomial features we can see the r^2 score has increased by 12% and the MSE has decreased by 12. This is a solid improvement in model performance by just introducing interaction terms."
   ]
  },
  {
   "cell_type": "markdown",
   "metadata": {
    "_uuid": "8c966b06fc3c1b382c91e84963cf2a4144fbbc44"
   },
   "source": [
    "# Ridge Regression\n",
    "Ridge regression is a form of linear regression that introduced regularization in the form of the L2 norm. This regularization aims to shrink the coefficients of the linear regression model therefore reducing the chance of overfitting. There are other types of regularization regression methods such as lasso and elastic net. Lasso is better suited for datasets that contain more features as it aims to reduce insignificant coefficients therefore reducing the dimensionality of the dataset."
   ]
  },
  {
   "cell_type": "code",
   "execution_count": null,
   "metadata": {
    "_uuid": "31aa24f6fb179680381898a78787aaabf9b881d2",
    "collapsed": true
   },
   "outputs": [],
   "source": [
    "from sklearn.linear_model import Ridge\n",
    "from sklearn.model_selection import GridSearchCV"
   ]
  },
  {
   "cell_type": "code",
   "execution_count": null,
   "metadata": {
    "_uuid": "a83c650a5c010f00cd2b8c3a00944ab20bb8a92e",
    "collapsed": true
   },
   "outputs": [],
   "source": [
    "#Function to fit, train, and test linear regression model.\n",
    "def RidgeLR(data):\n",
    "    #X Set\n",
    "    X = data.drop(columns='MEDV')\n",
    "    \n",
    "    #Y set\n",
    "    y = data['MEDV']\n",
    "    \n",
    "    #Split data\n",
    "    X_train, X_test, y_train, y_test = train_test_split(X, y, test_size=0.3, random_state=101)\n",
    "    \n",
    "    #Alphas to tune\n",
    "    alphas = {'alpha':[.001, .01, .1, 10, 100]}\n",
    "    \n",
    "    #Create Ridge object\n",
    "    ridge = Ridge(random_state = 101)\n",
    "    \n",
    "    #Create ridge model\n",
    "    clf = GridSearchCV(ridge, alphas)\n",
    "    \n",
    "    #Fit linear object model to training data\n",
    "    clf.fit(X_train, y_train)\n",
    "    \n",
    "    #Make predictions using lm.predict\n",
    "    predictions = clf.predict(X_test)\n",
    "    \n",
    "    #Print model quality of fit scores.\n",
    "    print('r^2: ', r2_score(y_test, predictions))\n",
    "    print(\"MSE: \", mean_squared_error(y_test, predictions))\n",
    "    \n",
    "    return r2_score(y_test, predictions), mean_squared_error(y_test, predictions)"
   ]
  },
  {
   "cell_type": "code",
   "execution_count": null,
   "metadata": {
    "_uuid": "9bed54b07d86fbf14ae9546b8b5b8b8757c0090e",
    "collapsed": true
   },
   "outputs": [],
   "source": [
    "bridger2, bridgemse = RidgeLR(boston)"
   ]
  },
  {
   "cell_type": "code",
   "execution_count": null,
   "metadata": {
    "_uuid": "2e7fbcfcb2be3889da420ae096aa0e49d2e900ca",
    "collapsed": true
   },
   "outputs": [],
   "source": [
    "polyridger2, polyridgemse = RidgeLR(poly_features)"
   ]
  },
  {
   "cell_type": "code",
   "execution_count": null,
   "metadata": {
    "_uuid": "ea7bd42b966d3159794af2069006e964e483d3ca",
    "collapsed": true
   },
   "outputs": [],
   "source": [
    "RidgeLR = pd.DataFrame(data=[[bridger2, polyridger2], [bridgemse, polyridgemse]], columns=['boston', 'poly features'], index=['r^2', 'MSE'])\n",
    "RidgeLR"
   ]
  },
  {
   "cell_type": "markdown",
   "metadata": {
    "_uuid": "330c18ab74cf9199978b268e8f876b56e638fd37"
   },
   "source": [
    "We can see here that using ridge regression has increased the r^2 metric to 85% and decreased the MSE to 14.64. "
   ]
  },
  {
   "cell_type": "markdown",
   "metadata": {
    "_uuid": "5cec5cf4894fc5a0b4410382acc22ca72cde0173"
   },
   "source": [
    "# Conclusion\n",
    "This notebook encompased an end to end machine learning project. It followed a framework of Inspecting the data, performing some EDA, engineering features, training and testing our data on multiple machine learning models and interpreting the results. We saw an improvement in model performance by trying a regularized regression algorithm as well as introducing interaction variables to the model.\n",
    "\n",
    "I'm relatively new to applied machine learning and am trying to get hands on experience using these algorithms through completing notebooks like this one. Some areas I didn't get a chance to tough on that I would have liked to in this notebook are:\n",
    "* Oulier detection and removal\n",
    "* Cross validation\n",
    "* Random Forest Regression\n",
    "As I continue to grow my knowledge base and understanding I will come back and update this notebook. I'm always trying to learn and improve myself in this area so please feel free to leave comments and questions about this notebook!\n"
   ]
  },
  {
   "cell_type": "code",
   "execution_count": null,
   "metadata": {
    "_uuid": "ad7101c42c87031ae7b0f19dbd4755d453f120da",
    "collapsed": true
   },
   "outputs": [],
   "source": []
  }
 ],
 "metadata": {
  "kernelspec": {
   "display_name": "Python 3",
   "language": "python",
   "name": "python3"
  },
  "language_info": {
   "codemirror_mode": {
    "name": "ipython",
    "version": 3
   },
   "file_extension": ".py",
   "mimetype": "text/x-python",
   "name": "python",
   "nbconvert_exporter": "python",
   "pygments_lexer": "ipython3",
   "version": "3.6.3"
  }
 },
 "nbformat": 4,
 "nbformat_minor": 1
}
